{
 "cells": [
  {
   "cell_type": "code",
   "id": "initial_id",
   "metadata": {
    "collapsed": true,
    "ExecuteTime": {
     "end_time": "2025-06-11T16:28:43.209516Z",
     "start_time": "2025-06-11T16:28:43.121951Z"
    }
   },
   "source": [
    "\"\"\" Tokenize paragraph into sentences\"\"\"\n",
    "import nltk\n",
    "nltk.download('punkt_tab')\n",
    "tokenizer = nltk.data.load('tokenizers/punkt/PY3/english.pickle')\n",
    "\n",
    "para = \"Hello World. It's good to see you. Thanks for buying this book.\"\n",
    "tokenizer.tokenize(para)"
   ],
   "outputs": [
    {
     "name": "stderr",
     "output_type": "stream",
     "text": [
      "[nltk_data] Downloading package punkt_tab to\n",
      "[nltk_data]     C:\\Users\\tobos\\AppData\\Roaming\\nltk_data...\n",
      "[nltk_data]   Package punkt_tab is already up-to-date!\n"
     ]
    },
    {
     "data": {
      "text/plain": [
       "['Hello World.', \"It's good to see you.\", 'Thanks for buying this book.']"
      ]
     },
     "execution_count": 8,
     "metadata": {},
     "output_type": "execute_result"
    }
   ],
   "execution_count": 8
  },
  {
   "metadata": {
    "ExecuteTime": {
     "end_time": "2025-06-11T16:32:05.994496Z",
     "start_time": "2025-06-11T16:32:05.960130Z"
    }
   },
   "cell_type": "code",
   "source": [
    "\"\"\" Tokenize sentence into words\"\"\"\n",
    "from nltk.tokenize import TreebankWordTokenizer\n",
    "tokenizer = TreebankWordTokenizer()\n",
    "tokenizer.tokenize('Hello World.')"
   ],
   "id": "1d1df4b70a0d6845",
   "outputs": [
    {
     "data": {
      "text/plain": [
       "['Hello', 'World', '.']"
      ]
     },
     "execution_count": 9,
     "metadata": {},
     "output_type": "execute_result"
    }
   ],
   "execution_count": 9
  },
  {
   "metadata": {
    "ExecuteTime": {
     "end_time": "2025-06-11T16:37:17.168665Z",
     "start_time": "2025-06-11T16:37:17.124526Z"
    }
   },
   "cell_type": "code",
   "source": [
    "\"\"\" Stopwords Removal\"\"\"\n",
    "nltk.download('stopwords')\n",
    "from nltk.corpus import stopwords\n",
    "english_stops = set(stopwords.words('english'))\n",
    "words = [\"Can't\", 'is', 'a', 'contraction']\n",
    "[word for word in words if word.lower() not in english_stops]"
   ],
   "id": "c11e9d645a6a0751",
   "outputs": [
    {
     "name": "stderr",
     "output_type": "stream",
     "text": [
      "[nltk_data] Downloading package stopwords to\n",
      "[nltk_data]     C:\\Users\\tobos\\AppData\\Roaming\\nltk_data...\n",
      "[nltk_data]   Package stopwords is already up-to-date!\n"
     ]
    },
    {
     "data": {
      "text/plain": [
       "[\"Can't\", 'contraction']"
      ]
     },
     "execution_count": 12,
     "metadata": {},
     "output_type": "execute_result"
    }
   ],
   "execution_count": 12
  },
  {
   "metadata": {
    "ExecuteTime": {
     "end_time": "2025-06-11T16:42:48.606540Z",
     "start_time": "2025-06-11T16:42:48.587406Z"
    }
   },
   "cell_type": "code",
   "source": [
    "\"\"\" Stemming \"\"\"\n",
    "from nltk.stem import PorterStemmer\n",
    "stemmer = PorterStemmer()\n",
    "print(f\"cooking -> {stemmer.stem('cooking')}\")\n",
    "print(f\"cookery -> {stemmer.stem('cookery')}\")"
   ],
   "id": "590ea1c3089b3343",
   "outputs": [
    {
     "name": "stdout",
     "output_type": "stream",
     "text": [
      "cooking -> cook\n",
      "cookery -> cookeri\n"
     ]
    }
   ],
   "execution_count": 17
  },
  {
   "metadata": {
    "ExecuteTime": {
     "end_time": "2025-06-11T19:14:31.984900Z",
     "start_time": "2025-06-11T19:14:31.946793Z"
    }
   },
   "cell_type": "code",
   "source": [
    "\"\"\" Lemmatization \"\"\"\n",
    "nltk.download('wordnet')\n",
    "from nltk.stem import WordNetLemmatizer\n",
    "lemmatizer = WordNetLemmatizer()\n",
    "print(f\"cooking -> {lemmatizer.lemmatize('cooking')}\")\n",
    "print(f\"cooking -> {lemmatizer.lemmatize('cooking', pos='v')}\")\n",
    "print(f\"cookbooks -> {lemmatizer.lemmatize('cookbooks')}\")"
   ],
   "id": "278b5233c15c5f96",
   "outputs": [
    {
     "name": "stdout",
     "output_type": "stream",
     "text": [
      "cooking -> cooking\n",
      "cooking -> cook\n",
      "cookbooks -> cookbooks\n"
     ]
    },
    {
     "name": "stderr",
     "output_type": "stream",
     "text": [
      "[nltk_data] Downloading package wordnet to\n",
      "[nltk_data]     C:\\Users\\tobos\\AppData\\Roaming\\nltk_data...\n",
      "[nltk_data]   Package wordnet is already up-to-date!\n"
     ]
    }
   ],
   "execution_count": 23
  },
  {
   "metadata": {},
   "cell_type": "code",
   "outputs": [],
   "execution_count": null,
   "source": "",
   "id": "49b131e4110e685d"
  }
 ],
 "metadata": {
  "kernelspec": {
   "display_name": "Python 3",
   "language": "python",
   "name": "python3"
  },
  "language_info": {
   "codemirror_mode": {
    "name": "ipython",
    "version": 2
   },
   "file_extension": ".py",
   "mimetype": "text/x-python",
   "name": "python",
   "nbconvert_exporter": "python",
   "pygments_lexer": "ipython2",
   "version": "2.7.6"
  }
 },
 "nbformat": 4,
 "nbformat_minor": 5
}
